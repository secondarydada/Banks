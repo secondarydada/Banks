import pandas as pd
import numpy as np
from sklearn.model_selection import train_test_split
from sklearn.preprocessing import StandardScaler
from sklearn.impute import SimpleImputer
import tensorflow as tf
from tensorflow.keras.models import Sequential
from tensorflow.keras.layers import Dense
import matplotlib.pyplot as plt



# Load the dataset
df = pd.read_csv("HousingData (1).csv")

# Display basic info and first few rows
print(df.info())
df.head()



# Split features and target
X = df.drop("MEDV", axis=1)
y = df["MEDV"]

# Impute missing values using mean
imputer = SimpleImputer(strategy="mean")
X_imputed = imputer.fit_transform(X)

# Standardize features
scaler = StandardScaler()
X_scaled = scaler.fit_transform(X_imputed)



# Split into train and test sets
X_train, X_test, y_train, y_test = train_test_split(X_scaled, y, test_size=0.2, random_state=42)



# Define the model
model = Sequential([
    Dense(64, input_dim=X_train.shape[1], activation='relu'),
    Dense(32, activation='relu'),
    Dense(1, activation='linear')  # Linear activation for regression output
])



# Compile with regression loss and metric
model.compile(optimizer='adam', loss='mean_squared_error', metrics=['mae'])



# Train the model
history = model.fit(X_train, y_train, epochs=100, batch_size=16, validation_split=0.1, verbose=1)



# Evaluate on test data
loss, mae = model.evaluate(X_test, y_test)
print(f"\nTest Mean Absolute Error (MAE): {mae:.2f}")



# Plot training vs validation loss
plt.plot(history.history['loss'], label='Train Loss')
plt.plot(history.history['val_loss'], label='Validation Loss')
plt.title("Model Loss over Epochs")
plt.xlabel("Epochs")
plt.ylabel("Loss")
plt.legend()
plt.grid(True)
plt.show()

