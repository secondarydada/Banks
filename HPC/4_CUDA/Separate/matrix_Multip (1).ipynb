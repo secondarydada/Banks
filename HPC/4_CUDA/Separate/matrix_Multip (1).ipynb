{
  "nbformat": 4,
  "nbformat_minor": 0,
  "metadata": {
    "colab": {
      "provenance": [],
      "gpuType": "T4"
    },
    "kernelspec": {
      "name": "python3",
      "display_name": "Python 3"
    },
    "language_info": {
      "name": "python"
    },
    "accelerator": "GPU"
  },
  "cells": [
    {
      "cell_type": "code",
      "source": [
        "%%writefile matrix_mul.cu\n",
        "#include <iostream>\n",
        "#include <cstdlib>\n",
        "#include <cuda_runtime.h>\n",
        "using namespace std;\n",
        "\n",
        "// CUDA kernel for matrix multiplication\n",
        "__global__ void matMul(int* A, int* B, int* C, int N) {\n",
        "    int row = threadIdx.y, col = threadIdx.x;\n",
        "    int sum = 0;\n",
        "    for (int i = 0; i < N; i++)\n",
        "        sum += A[row * N + i] * B[i * N + col];\n",
        "    C[row * N + col] = sum;\n",
        "}\n",
        "\n",
        "// Fill matrix with random values\n",
        "void fill(int* m, int N) {\n",
        "    for (int i = 0; i < N * N; i++) m[i] = rand() % 10;\n",
        "}\n",
        "\n",
        "// Print matrix\n",
        "void print(const int* m, int N) {\n",
        "    for (int i = 0; i < N * N; i++) {\n",
        "        cout << m[i] << \" \";\n",
        "        if ((i + 1) % N == 0) cout << \"\\n\";\n",
        "    }\n",
        "    cout << \"\\n\";\n",
        "}\n",
        "\n",
        "int main() {\n",
        "    const int N = 2, bytes = N * N * sizeof(int);\n",
        "    int A[N*N], B[N*N], C[N*N], *dA, *dB, *dC;\n",
        "\n",
        "    fill(A, N); fill(B, N);\n",
        "    cout << \"A:\\n\"; print(A, N);\n",
        "    cout << \"B:\\n\"; print(B, N);\n",
        "\n",
        "    cudaMalloc(&dA, bytes); cudaMalloc(&dB, bytes); cudaMalloc(&dC, bytes);\n",
        "    cudaMemcpy(dA, A, bytes, cudaMemcpyHostToDevice);\n",
        "    cudaMemcpy(dB, B, bytes, cudaMemcpyHostToDevice);\n",
        "\n",
        "    matMul<<<1, dim3(N, N)>>>(dA, dB, dC, N);\n",
        "    cudaMemcpy(C, dC, bytes, cudaMemcpyDeviceToHost);\n",
        "\n",
        "    cout << \"A x B:\\n\"; print(C, N);\n",
        "\n",
        "    cudaFree(dA); cudaFree(dB); cudaFree(dC);\n",
        "    return 0;\n",
        "}\n"
      ],
      "metadata": {
        "colab": {
          "base_uri": "https://localhost:8080/"
        },
        "id": "b6utEtxqUyLK",
        "outputId": "f49f1988-95e2-4b70-8f4e-77182f5682bd"
      },
      "execution_count": 1,
      "outputs": [
        {
          "output_type": "stream",
          "name": "stdout",
          "text": [
            "Writing matrix_mul.cu\n"
          ]
        }
      ]
    },
    {
      "cell_type": "code",
      "source": [
        "!nvcc -arch=sm_75 matrix_mul.cu -o matrix_mul\n",
        "!./matrix_mul\n"
      ],
      "metadata": {
        "colab": {
          "base_uri": "https://localhost:8080/"
        },
        "id": "12S5cGeZU6uD",
        "outputId": "6452b794-c7c9-458c-dc18-4fc2ab5b1fa4"
      },
      "execution_count": 2,
      "outputs": [
        {
          "output_type": "stream",
          "name": "stdout",
          "text": [
            "A:\n",
            "3 6 \n",
            "7 5 \n",
            "\n",
            "B:\n",
            "3 5 \n",
            "6 2 \n",
            "\n",
            "A x B:\n",
            "45 27 \n",
            "51 45 \n",
            "\n"
          ]
        }
      ]
    }
  ]
}