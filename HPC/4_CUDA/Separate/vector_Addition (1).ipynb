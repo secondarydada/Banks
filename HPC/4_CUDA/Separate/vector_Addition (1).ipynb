{
  "nbformat": 4,
  "nbformat_minor": 0,
  "metadata": {
    "colab": {
      "provenance": [],
      "gpuType": "T4"
    },
    "kernelspec": {
      "name": "python3",
      "display_name": "Python 3"
    },
    "language_info": {
      "name": "python"
    },
    "accelerator": "GPU"
  },
  "cells": [
    {
      "cell_type": "code",
      "source": [
        "%%writefile vector_addition.cu\n",
        "#include <iostream>\n",
        "#include <cuda_runtime.h>\n",
        "using namespace std;\n",
        "\n",
        "// CUDA kernel: adds A[i] + B[i] and stores in C[i]\n",
        "__global__ void add(int* A, int* B, int* C, int N) {\n",
        "    int i = threadIdx.x;\n",
        "    if (i < N) C[i] = A[i] + B[i];\n",
        "}\n",
        "\n",
        "// Fill array with random numbers\n",
        "void fill(int* arr, int N) {\n",
        "    for (int i = 0; i < N; i++) arr[i] = rand() % 10;\n",
        "}\n",
        "\n",
        "// Print array\n",
        "void print(const int* arr, int N) {\n",
        "    for (int i = 0; i < N; i++) cout << arr[i] << \" \";\n",
        "    cout << \"\\n\";\n",
        "}\n",
        "\n",
        "int main() {\n",
        "    const int N = 4, size = N * sizeof(int);\n",
        "    int A[N], B[N], C[N], *dA, *dB, *dC;\n",
        "\n",
        "    fill(A, N); fill(B, N);\n",
        "    cout << \"A: \"; print(A, N);\n",
        "    cout << \"B: \"; print(B, N);\n",
        "\n",
        "    cudaMalloc(&dA, size); cudaMalloc(&dB, size); cudaMalloc(&dC, size);\n",
        "    cudaMemcpy(dA, A, size, cudaMemcpyHostToDevice);\n",
        "    cudaMemcpy(dB, B, size, cudaMemcpyHostToDevice);\n",
        "\n",
        "    add<<<1, N>>>(dA, dB, dC, N);\n",
        "    cudaMemcpy(C, dC, size, cudaMemcpyDeviceToHost);\n",
        "\n",
        "    cout << \"A + B = \"; print(C, N);\n",
        "\n",
        "    cudaFree(dA); cudaFree(dB); cudaFree(dC);\n",
        "    return 0;\n",
        "}\n"
      ],
      "metadata": {
        "colab": {
          "base_uri": "https://localhost:8080/"
        },
        "id": "ZlIy3TzjdXx9",
        "outputId": "5fa8d8ae-7df9-4a47-c2ac-dcb55b62b709"
      },
      "execution_count": 13,
      "outputs": [
        {
          "output_type": "stream",
          "name": "stdout",
          "text": [
            "Overwriting vector_addition.cu\n"
          ]
        }
      ]
    },
    {
      "cell_type": "code",
      "source": [
        "!nvcc -arch=sm_75 vector_addition.cu -o vector_addition\n",
        "!./vector_addition\n"
      ],
      "metadata": {
        "colab": {
          "base_uri": "https://localhost:8080/"
        },
        "id": "dFfbN_2cdhAH",
        "outputId": "ab7e5728-ddaa-4307-e4bc-fa62c96858ab"
      },
      "execution_count": 14,
      "outputs": [
        {
          "output_type": "stream",
          "name": "stdout",
          "text": [
            "A: 3 6 7 5 \n",
            "B: 3 5 6 2 \n",
            "A + B = 6 11 13 7 \n"
          ]
        }
      ]
    }
  ]
}